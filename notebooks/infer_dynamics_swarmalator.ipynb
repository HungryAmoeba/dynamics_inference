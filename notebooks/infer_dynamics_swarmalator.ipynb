{
 "cells": [
  {
   "cell_type": "code",
   "execution_count": null,
   "metadata": {},
   "outputs": [],
   "source": [
    "import matplotlib.pyplot as plt\n",
    "import numpy as np\n",
    "import jax \n",
    "import jax.numpy as jnp\n",
    "import networkx as nx\n",
    "from types import SimpleNamespace\n",
    "\n",
    "from inference.GA_inference_2 import infer_dynamics \n",
    "from visualizer.temporal_graph_matplotlib import animate_temporal_graph\n",
    "\n",
    "from dynamics.system import GetDynamicalSystem\n",
    "from simulation.ode_solve_engine import ODEEngine\n",
    "from visualizer.visualize_dynamics import visualize_dynamics"
   ]
  },
  {
   "cell_type": "code",
   "execution_count": null,
   "metadata": {},
   "outputs": [],
   "source": [
    "# reimport everything\n",
    "import importlib \n",
    "import inference.GA_inference_2\n",
    "import visualizer.temporal_graph_matplotlib\n",
    "import dynamics.system\n",
    "import simulation.ode_solve_engine\n",
    "import visualizer.visualize_dynamics\n",
    "\n",
    "importlib.reload(inference.GA_inference_2)\n",
    "importlib.reload(visualizer.temporal_graph_matplotlib)\n",
    "importlib.reload(dynamics.system)\n",
    "importlib.reload(simulation.ode_solve_engine)\n",
    "importlib.reload(visualizer.visualize_dynamics)\n",
    "\n",
    "from inference.GA_inference_2 import infer_dynamics \n",
    "from visualizer.temporal_graph_matplotlib import animate_temporal_graph\n",
    "from dynamics.system import GetDynamicalSystem\n",
    "from simulation.ode_solve_engine import ODEEngine\n",
    "from visualizer.visualize_dynamics import visualize_dynamics"
   ]
  },
  {
   "cell_type": "code",
   "execution_count": null,
   "metadata": {},
   "outputs": [],
   "source": [
    "from hydra import initialize, compose\n",
    "from omegaconf import DictConfig, OmegaConf\n",
    "\n",
    "# 2) point to the folder that contains your `configs/` directory\n",
    "#    version_base=None matches hydra.main(version_base=None) in your script\n",
    "with initialize(config_path=\"configs\", version_base=None):\n",
    "    # compose gives you exactly the same DictConfig you'd get in your @hydra.main\n",
    "    cfg: DictConfig = compose(config_name=\"config\")"
   ]
  },
  {
   "cell_type": "code",
   "execution_count": null,
   "metadata": {},
   "outputs": [],
   "source": [
    "cfg\n",
    "\n",
    "system = GetDynamicalSystem(cfg.dynamics)\n",
    "engine = ODEEngine(system, cfg.engine.ode_solver)\n",
    "ys, ts = engine.run() "
   ]
  },
  {
   "cell_type": "code",
   "execution_count": null,
   "metadata": {},
   "outputs": [],
   "source": [
    "dt = cfg.engine.ode_solver.saveat['dt']"
   ]
  },
  {
   "cell_type": "code",
   "execution_count": null,
   "metadata": {},
   "outputs": [],
   "source": [
    "pos, ori = system.unwrap_state(ys)"
   ]
  },
  {
   "cell_type": "code",
   "execution_count": null,
   "metadata": {},
   "outputs": [],
   "source": [
    "pos.shape"
   ]
  },
  {
   "cell_type": "code",
   "execution_count": null,
   "metadata": {},
   "outputs": [],
   "source": [
    "ori.shape"
   ]
  },
  {
   "cell_type": "code",
   "execution_count": null,
   "metadata": {},
   "outputs": [],
   "source": [
    "ts_broadcasted = jnp.broadcast_to(ts[:, None, None], pos.shape)[..., 0]\n",
    "ts_broadcasted = ts_broadcasted[..., None]"
   ]
  },
  {
   "cell_type": "code",
   "execution_count": null,
   "metadata": {},
   "outputs": [],
   "source": [
    "vol_elt = jnp.zeros_like(ts_broadcasted)"
   ]
  },
  {
   "cell_type": "code",
   "execution_count": null,
   "metadata": {},
   "outputs": [],
   "source": [
    "swarm_full = jnp.concat([ts_broadcasted, pos, ori, vol_elt], axis=-1)\n",
    "swarm_full.shape"
   ]
  },
  {
   "cell_type": "code",
   "execution_count": null,
   "metadata": {},
   "outputs": [],
   "source": [
    "# g_of_d = jnp.array([\n",
    "#     0,      # output dim 0 ← grade 0\n",
    "#     1,1,  # dims 1–3 ← grade 1\n",
    "#     2 \n",
    "# ])\n",
    "g_of_d = jnp.array([\n",
    "    0,\n",
    "    1,1,1,\n",
    "    2,2,2,\n",
    "    3\n",
    "])"
   ]
  },
  {
   "cell_type": "code",
   "execution_count": null,
   "metadata": {},
   "outputs": [],
   "source": [
    "def metamaterial_ext_pulling_force(applied_velocity, pulled_nodes, dt):\n",
    "    # Apply a pulling force to the top nodes\n",
    "    pulled_nodes = jnp.array(pulled_nodes, dtype = jnp.int32)\n",
    "    time_forcing = dt\n",
    "    def vel_fn(D_out, X):\n",
    "        D_blank = jnp.zeros_like(D_out) # T, N, D\n",
    "        # set D = 0 to the dt \n",
    "        D_blank = D_blank.at[:, :, 0].set(dt)\n",
    "        D_blank = D_blank.at[:, pulled_nodes, 1:3].set(applied_velocity)\n",
    "        return D_blank\n",
    "    return vel_fn"
   ]
  },
  {
   "cell_type": "code",
   "execution_count": null,
   "metadata": {},
   "outputs": [],
   "source": [
    "def time_driver(dt):\n",
    "    time_forcing = dt\n",
    "    def vel_fn(D_out, X):\n",
    "        D_blank = jnp.zeros_like(D_out) # T, N, D\n",
    "        # set D = 0 to the dt \n",
    "        D_blank = D_blank.at[:, :, 0].set(dt)\n",
    "        return D_blank\n",
    "    return vel_fn"
   ]
  },
  {
   "cell_type": "code",
   "execution_count": null,
   "metadata": {},
   "outputs": [],
   "source": [
    "model = infer_dynamics(swarm_full,\n",
    "                       g_of_d=g_of_d,\n",
    "                       derivatives='savgol',\n",
    "                       coupling_mode='gaussian',\n",
    "                       max_poly_degree=2,\n",
    "                       sparsity_alpha=.1,\n",
    "                       ext_derivative_fxn=time_driver(dt),\n",
    "                       )"
   ]
  },
  {
   "cell_type": "code",
   "execution_count": null,
   "metadata": {},
   "outputs": [],
   "source": [
    "dat, deriv = model.preprocess_data(swarm_full)\n"
   ]
  },
  {
   "cell_type": "code",
   "execution_count": null,
   "metadata": {},
   "outputs": [],
   "source": [
    "final_pred=model.fit(epochs=1000, lr  = 1e-4)"
   ]
  },
  {
   "cell_type": "code",
   "execution_count": null,
   "metadata": {},
   "outputs": [],
   "source": [
    "swarm_full.shape"
   ]
  },
  {
   "cell_type": "code",
   "execution_count": null,
   "metadata": {},
   "outputs": [],
   "source": [
    "plt.figure(figsize=(10, 5))\n",
    "plt.plot(ts, ys[:, 1], label='x')\n",
    "plt.plot(ts, ys[:, 2], label='y')\n",
    "plt.plot(ts, ys[:, 3], label='z')\n",
    "plt.xlabel('Time')\n"
   ]
  },
  {
   "cell_type": "code",
   "execution_count": null,
   "metadata": {},
   "outputs": [],
   "source": [
    "# compare final_pred with deriv\n",
    "objs = [1]\n",
    "\n",
    "plt.plot(ts, deriv[:, objs, 1], 'b', label='x_deriv')\n",
    "plt.plot(ts, deriv[:, objs, 2], 'g', label='y_deriv')\n",
    "plt.plot(ts, deriv[:, objs, 3], 'r', label='z_deriv')\n",
    "\n",
    "plt.plot(ts, final_pred[:, objs, 1], 'b--', label='x_pred')\n",
    "plt.plot(ts, final_pred[:, objs, 2], 'g--',label='y_pred')\n",
    "plt.plot(ts, final_pred[:, objs, 3], 'r--', label='z_pred')\n",
    "plt.xlabel('Time')\n",
    "plt.legend()\n",
    "plt.show()\n",
    "\n"
   ]
  },
  {
   "cell_type": "code",
   "execution_count": null,
   "metadata": {},
   "outputs": [],
   "source": []
  },
  {
   "cell_type": "markdown",
   "metadata": {},
   "source": [
    "# try on gravitational dynamics\n",
    "\n"
   ]
  },
  {
   "cell_type": "code",
   "execution_count": null,
   "metadata": {},
   "outputs": [],
   "source": [
    "from hydra import initialize, compose\n",
    "from omegaconf import DictConfig, OmegaConf\n",
    "\n",
    "# 2) point to the folder that contains your `configs/` directory\n",
    "#    version_base=None matches hydra.main(version_base=None) in your script\n",
    "with initialize(config_path=\"configs\", version_base=None):\n",
    "    # compose gives you exactly the same DictConfig you'd get in your @hydra.main\n",
    "    cfg: DictConfig = compose(config_name=\"config\")"
   ]
  },
  {
   "cell_type": "code",
   "execution_count": null,
   "metadata": {},
   "outputs": [],
   "source": [
    "system = GetDynamicalSystem(cfg.dynamics)\n",
    "engine = ODEEngine(system, cfg.engine.ode_solver)\n",
    "ys, ts = engine.run() \n",
    "dt = cfg.engine.ode_solver.saveat['dt']\n",
    "pos, ori = system.unwrap_state(ys)"
   ]
  },
  {
   "cell_type": "code",
   "execution_count": null,
   "metadata": {},
   "outputs": [],
   "source": [
    "pos.shape"
   ]
  },
  {
   "cell_type": "code",
   "execution_count": null,
   "metadata": {},
   "outputs": [],
   "source": [
    "ori = jnp.zeros_like(pos)\n",
    "ts_broadcasted = jnp.broadcast_to(ts[:, None, None], pos.shape)[..., 0]\n",
    "ts_broadcasted = ts_broadcasted[..., None]\n",
    "vol_elt = jnp.zeros_like(ts_broadcasted)\n",
    "grav_full = jnp.concat([ts_broadcasted, pos, ori, vol_elt], axis=-1)\n",
    "\n",
    "# get the first 100 ts \n",
    "grav_full = grav_full[:100]"
   ]
  },
  {
   "cell_type": "code",
   "execution_count": null,
   "metadata": {},
   "outputs": [],
   "source": []
  },
  {
   "cell_type": "code",
   "execution_count": null,
   "metadata": {},
   "outputs": [],
   "source": [
    "model_grav = infer_dynamics(grav_full,\n",
    "                       g_of_d=g_of_d,\n",
    "                       derivatives='savgol',\n",
    "                       coupling_mode='gaussian',\n",
    "                       max_poly_degree=2,\n",
    "                       sparsity_alpha=0.0,\n",
    "                       ext_derivative_fxn=time_driver(dt),\n",
    "                       )\n",
    "\n",
    "dat, deriv = model_grav.preprocess_data(grav_full)\n"
   ]
  },
  {
   "cell_type": "code",
   "execution_count": null,
   "metadata": {},
   "outputs": [],
   "source": [
    "final_pred_grav=model_grav.fit(epochs=10000, lr  = 1e-3)"
   ]
  },
  {
   "cell_type": "code",
   "execution_count": null,
   "metadata": {},
   "outputs": [],
   "source": [
    "model_grav.params"
   ]
  },
  {
   "cell_type": "code",
   "execution_count": null,
   "metadata": {},
   "outputs": [],
   "source": [
    "deriv.shape"
   ]
  },
  {
   "cell_type": "code",
   "execution_count": null,
   "metadata": {},
   "outputs": [],
   "source": [
    "# compare final_pred with deriv\n",
    "objs = [13]\n",
    "ts = deriv[:, objs, 0]\n",
    "\n",
    "plt.plot(ts, deriv[:, objs, 1], 'b', label='x_deriv')\n",
    "plt.plot(ts, deriv[:, objs, 2], 'g', label='y_deriv')\n",
    "plt.plot(ts, deriv[:, objs, 3], 'r', label='z_deriv')\n",
    "\n",
    "plt.plot(ts, final_pred_grav[:, objs, 1], 'b--', label='x_pred')\n",
    "plt.plot(ts, final_pred_grav[:, objs, 2], 'g--',label='y_pred')\n",
    "plt.plot(ts, final_pred_grav[:, objs, 3], 'r--', label='z_pred')\n",
    "plt.xlabel('Time')\n",
    "plt.legend()\n",
    "plt.show()\n",
    "\n"
   ]
  },
  {
   "cell_type": "code",
   "execution_count": null,
   "metadata": {},
   "outputs": [],
   "source": [
    "model_grav.print_equation()"
   ]
  }
 ],
 "metadata": {
  "kernelspec": {
   "display_name": "sde_inf",
   "language": "python",
   "name": "python3"
  },
  "language_info": {
   "codemirror_mode": {
    "name": "ipython",
    "version": 3
   },
   "file_extension": ".py",
   "mimetype": "text/x-python",
   "name": "python",
   "nbconvert_exporter": "python",
   "pygments_lexer": "ipython3",
   "version": "3.10.13"
  }
 },
 "nbformat": 4,
 "nbformat_minor": 2
}
