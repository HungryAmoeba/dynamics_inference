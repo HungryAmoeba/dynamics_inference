{
 "cells": [
  {
   "cell_type": "code",
   "execution_count": null,
   "metadata": {},
   "outputs": [],
   "source": [
    "from kingdon import Algebra \n",
    "import numpy as np \n",
    "import jax.numpy as jnp \n",
    "import jax"
   ]
  },
  {
   "cell_type": "code",
   "execution_count": null,
   "metadata": {},
   "outputs": [],
   "source": [
    "alg = Algebra(p=3, q=0, r=0)\n",
    "locals().update(alg.blades)"
   ]
  },
  {
   "cell_type": "code",
   "execution_count": null,
   "metadata": {},
   "outputs": [],
   "source": [
    "v = alg.multivector(name = 'v', grades = (1,))\n",
    "b = alg.multivector(name = 'b', grades = (2,))\n",
    "p = alg.multivector(name = 'p', grades = (2,))\n",
    "\n",
    "((v * b - b * v) * e123) "
   ]
  },
  {
   "cell_type": "code",
   "execution_count": null,
   "metadata": {},
   "outputs": [],
   "source": [
    "(v.cp(b) * e123).acp(b) # gives 0\n",
    "(v.cp(b) * e123) | (b) # also gives 0"
   ]
  },
  {
   "cell_type": "code",
   "execution_count": null,
   "metadata": {},
   "outputs": [],
   "source": [
    "b.cp(p) # gives cross prod like term"
   ]
  },
  {
   "cell_type": "code",
   "execution_count": null,
   "metadata": {},
   "outputs": [],
   "source": [
    "b.acp(p)"
   ]
  },
  {
   "cell_type": "code",
   "execution_count": null,
   "metadata": {},
   "outputs": [],
   "source": [
    "(b.cp(p)).acp(b) # gives 0"
   ]
  },
  {
   "cell_type": "code",
   "execution_count": null,
   "metadata": {},
   "outputs": [],
   "source": [
    "def deriv_swarm(b1, b2):\n",
    "    # b1 time derivative from b2\n",
    "    return b2 + b1.acp(b2) * b1\n",
    "\n",
    "def deriv_general_bvec(b1, b2):\n",
    "    return b2.cp(b1)"
   ]
  },
  {
   "cell_type": "code",
   "execution_count": null,
   "metadata": {},
   "outputs": [],
   "source": [
    "bvec_formulas = [[.5,.5,0],[0,1,0]]\n",
    "bvec = np.array(bvec_formulas).T\n",
    "bvec_1 = alg.bivector(bvec[:, 0])\n",
    "bvec_2 = alg.bivector(bvec[:, 1])\n",
    "\n",
    "print(bvec_1)\n",
    "print(bvec_2)\n",
    "\n",
    "print(deriv_swarm(bvec_1, bvec_2))\n",
    "print(deriv_general_bvec(bvec_1, bvec_2))"
   ]
  },
  {
   "cell_type": "code",
   "execution_count": null,
   "metadata": {},
   "outputs": [],
   "source": [
    "dt = .001 \n",
    "final_t = 10\n",
    "\n",
    "print(bvec_1)\n",
    "print(bvec_2)\n",
    "bvec_1_update = bvec_1\n",
    "bvec_2_update = bvec_2\n",
    "for t in np.arange(0, final_t, dt):\n",
    "    bvec_1_update = deriv_swarm(bvec_1_update, bvec_2) * dt + bvec_1_update\n",
    "    #bvec_1_update = deriv_general_bvec(bvec_1_update, bvec_2_update) * dt + bvec_1_update\n",
    "print(bvec_1_update)\n"
   ]
  },
  {
   "cell_type": "code",
   "execution_count": null,
   "metadata": {},
   "outputs": [],
   "source": [
    "import sympy as sp"
   ]
  },
  {
   "cell_type": "code",
   "execution_count": null,
   "metadata": {},
   "outputs": [],
   "source": [
    "x = sp.symbols('x')\n",
    "sympy_function = x + x**3 - x**4\n",
    "print(sympy_function)"
   ]
  },
  {
   "cell_type": "code",
   "execution_count": null,
   "metadata": {},
   "outputs": [],
   "source": [
    "#swarmalator formula \n",
    "deriv_swarm = p + b.acp(p) * b \n",
    "print(deriv_swarm)\n",
    "\n",
    "deriv_general = b.cp(p)\n",
    "print(deriv_general)\n",
    "\n",
    "# check orthogonality to b\n",
    "orthogonal_swarm = (deriv_swarm | b)\n",
    "print(f'orthogonal_swarm is {orthogonal_swarm}' )\n",
    "\n",
    "# check orthogonality to b \n",
    "orthogonal_general = (deriv_general | b)\n",
    "print(f'orthogonal_general is {orthogonal_general}' )"
   ]
  },
  {
   "cell_type": "code",
   "execution_count": null,
   "metadata": {},
   "outputs": [],
   "source": [
    "T = 300 \n",
    "N = 100 \n",
    "D = 3 \n",
    "\n",
    "traj_coeffs_rand = jax.random.uniform(jax.random.PRNGKey(0), shape=(N,T, 8), minval=-1, maxval=1)\n",
    "\n",
    "rand_pos = jax.random.uniform(jax.random.PRNGKey(0), shape=(T, N,D), minval=-1, maxval=1)\n",
    "rand_ori = jax.random.uniform(jax.random.PRNGKey(1), shape=(T, N,D), minval=-1, maxval=1)\n",
    "ts = jnp.arange(T)\n",
    "\n"
   ]
  },
  {
   "cell_type": "code",
   "execution_count": null,
   "metadata": {},
   "outputs": [],
   "source": [
    "import sympy as sp"
   ]
  },
  {
   "cell_type": "markdown",
   "metadata": {},
   "source": [
    "## polynomial map inference GA"
   ]
  },
  {
   "cell_type": "code",
   "execution_count": null,
   "metadata": {},
   "outputs": [],
   "source": [
    "# add path to /src/utils/polynomial_fits.py\n",
    "import sys\n",
    "sys.path.append('/Users/charlesxu/Documents/MIT/geometric algebra/dynamics_inference')\n",
    "from src.utils.polynomial_fits import orth_poly_mc, fit_polynomial_mc\n"
   ]
  },
  {
   "cell_type": "code",
   "execution_count": null,
   "metadata": {},
   "outputs": [],
   "source": [
    "from src.utils.polynomial_fits import orth_poly_mc\n",
    "import importlib\n",
    "\n",
    "importlib.reload(sys.modules['src.utils.polynomial_fits'])"
   ]
  },
  {
   "cell_type": "code",
   "execution_count": null,
   "metadata": {},
   "outputs": [],
   "source": [
    "data_pos = np.arange(-1, 1, .01)\n",
    "polys = orth_poly_mc(data_pos, 5)"
   ]
  },
  {
   "cell_type": "code",
   "execution_count": null,
   "metadata": {},
   "outputs": [],
   "source": [
    "# plot all the polys over data_pos \n",
    "import matplotlib.pyplot as plt\n",
    "\n",
    "plt.figure(figsize=(10, 6))\n",
    "for poly in polys:\n",
    "    \n",
    "    plt.plot(data_pos, poly(data_pos), label=str(poly))\n",
    "plt.title('Orthogonal Polynomials')\n",
    "plt.xlabel('x')\n",
    "plt.ylabel('Polynomial Value')\n",
    "plt.show()"
   ]
  },
  {
   "cell_type": "code",
   "execution_count": null,
   "metadata": {},
   "outputs": [],
   "source": [
    "def target_function(x):\n",
    "    return x + x**3 - x**4 + 4 - 5 * np.sin(5 * x)\n",
    "\n",
    "Y = target_function(data_pos)"
   ]
  },
  {
   "cell_type": "code",
   "execution_count": null,
   "metadata": {},
   "outputs": [],
   "source": [
    "least_squares_fit = fit_polynomial_mc(data_pos, Y, polys)\n",
    "least_squares_fit"
   ]
  },
  {
   "cell_type": "code",
   "execution_count": null,
   "metadata": {},
   "outputs": [],
   "source": [
    "plt.plot(data_pos, least_squares_fit(data_pos), label='Least Squares Fit', color='red')\n",
    "plt.scatter(data_pos, Y, label='Target Function', color='blue', s=10)\n",
    "plt.title('Least Squares Fit to Target Function')\n",
    "plt.xlabel('x')\n",
    "plt.ylabel('Function Value')\n",
    "plt.legend()\n",
    "plt.show()\n"
   ]
  },
  {
   "cell_type": "code",
   "execution_count": null,
   "metadata": {},
   "outputs": [],
   "source": [
    "# ok lets see if this will work with the metamaterial data\n",
    "metamaterial_data = np.load('normalized_trajectory_metamaterial.npz')\n",
    "x1 = metamaterial_data['x']\n",
    "x2 = metamaterial_data['y']\n",
    "A = metamaterial_data['angle']\n",
    "# convert A to radians \n",
    "A = np.deg2rad(A)\n",
    "final_time = 1 # seconds \n",
    "t = np.linspace(0, final_time, x1.shape[0])\n",
    "# repeat t \n",
    "t = np.repeat(t[:, np.newaxis], x1.shape[1], axis=1)"
   ]
  },
  {
   "cell_type": "code",
   "execution_count": null,
   "metadata": {},
   "outputs": [],
   "source": [
    "plt.plot(A)\n",
    "plt.show()"
   ]
  },
  {
   "cell_type": "code",
   "execution_count": null,
   "metadata": {},
   "outputs": [],
   "source": [
    "alg = Algebra(p=2, q=0, r=0)\n",
    "locals().update(alg.blades)"
   ]
  },
  {
   "cell_type": "code",
   "execution_count": null,
   "metadata": {},
   "outputs": [],
   "source": [
    "e12"
   ]
  },
  {
   "cell_type": "code",
   "execution_count": null,
   "metadata": {},
   "outputs": [],
   "source": [
    "x1_t0 = x1[0, :][:, np.newaxis]  \n",
    "repeat_x1_initial = np.repeat(x1_t0, x1.shape[0], axis=1)\n",
    "x2_t0 = x2[0, :][:, np.newaxis]\n",
    "repeat_x2_initial = np.repeat(x2_t0, x2.shape[0], axis=1)\n",
    "\n",
    "# t, x1_t0, x2_t0 all need to be flattened\n",
    "t = t.flatten()\n",
    "repeat_x1_initial = repeat_x1_initial.flatten()\n",
    "repeat_x2_initial = repeat_x2_initial.flatten()\n",
    "\n",
    "data_pos = alg.multivector(e = t, \n",
    "                           e1 = repeat_x1_initial, \n",
    "                           e2 = repeat_x2_initial)\n",
    "\n",
    "print(repeat_x1_initial.shape)\n",
    "\n"
   ]
  },
  {
   "cell_type": "code",
   "execution_count": null,
   "metadata": {},
   "outputs": [],
   "source": [
    "data_pos.shape"
   ]
  },
  {
   "cell_type": "code",
   "execution_count": null,
   "metadata": {},
   "outputs": [],
   "source": [
    "def constant_poly(x):\n",
    "    return x * 0 + 1\n",
    "\n",
    "def normalize(f, data_locations):\n",
    "    norm = np.sqrt(inner_product(f, f, data_locations))\n",
    "    print(norm.shape)\n",
    "    return lambda x: f(x) / norm\n",
    "\n",
    "def inner_product(f, g, data_locations):\n",
    "    print(f(data_locations).shape)\n",
    "    print(g(data_locations).shape)\n",
    "    return np.mean(f(data_locations) * g(data_locations))\n"
   ]
  },
  {
   "cell_type": "code",
   "execution_count": null,
   "metadata": {},
   "outputs": [],
   "source": [
    "data_pos.shape"
   ]
  },
  {
   "cell_type": "code",
   "execution_count": null,
   "metadata": {},
   "outputs": [],
   "source": [
    "(constant_poly(data_pos) | constant_poly(data_pos))"
   ]
  },
  {
   "cell_type": "code",
   "execution_count": null,
   "metadata": {},
   "outputs": [],
   "source": [
    "inner_product(constant_poly, constant_poly, data_pos)"
   ]
  },
  {
   "cell_type": "code",
   "execution_count": null,
   "metadata": {},
   "outputs": [],
   "source": [
    "normalize(constant_poly, data_pos)"
   ]
  },
  {
   "cell_type": "code",
   "execution_count": null,
   "metadata": {},
   "outputs": [],
   "source": [
    "polys = orth_poly_mc(data_pos, 5)"
   ]
  },
  {
   "cell_type": "code",
   "execution_count": null,
   "metadata": {},
   "outputs": [],
   "source": [
    "Y = alg.multivector(e = t, e1 = x1, e2 = x2, e12 = A)\n"
   ]
  },
  {
   "cell_type": "code",
   "execution_count": null,
   "metadata": {},
   "outputs": [],
   "source": [
    "(X * X).shape"
   ]
  },
  {
   "cell_type": "markdown",
   "metadata": {},
   "source": [
    "# not really GA learning first"
   ]
  },
  {
   "cell_type": "code",
   "execution_count": null,
   "metadata": {},
   "outputs": [],
   "source": [
    "x1_t0 = x1[0, :][:, np.newaxis]  \n",
    "repeat_x1_initial = np.repeat(x1[0, :][:, np.newaxis], x1.shape[0], axis=1).T\n",
    "x2_t0 = x2[0, :][:, np.newaxis]\n",
    "repeat_x2_initial = np.repeat(x2[0, :][:, np.newaxis], x2.shape[0], axis=1).T\n",
    "# t, x1_t0, x2_t0 all need to be flattened\n",
    "t = t.flatten()\n",
    "repeat_x1_initial = repeat_x1_initial.flatten()\n",
    "repeat_x2_initial = repeat_x2_initial.flatten()\n",
    "\n",
    "# data_pos = alg.multivector(e = t, \n",
    "#                            e1 = repeat_x1_initial, \n",
    "#                            e2 = repeat_x2_initial)\n",
    "\n",
    "\n",
    "print(repeat_x1_initial.shape)"
   ]
  },
  {
   "cell_type": "code",
   "execution_count": null,
   "metadata": {},
   "outputs": [],
   "source": [
    "plt.scatter(t, repeat_x1_initial, label='x1')"
   ]
  },
  {
   "cell_type": "code",
   "execution_count": null,
   "metadata": {},
   "outputs": [],
   "source": [
    "plt.scatter(t, repeat_x2_initial)"
   ]
  },
  {
   "cell_type": "code",
   "execution_count": null,
   "metadata": {},
   "outputs": [],
   "source": [
    "t = t.flatten()\n",
    "repeat_x1_initial = repeat_x1_initial.flatten()\n",
    "repeat_x2_initial = repeat_x2_initial.flatten()\n",
    "A_initial = np.zeros_like(repeat_x1_initial)\n",
    "\n",
    "X = np.array([t, repeat_x1_initial, repeat_x2_initial, A_initial]).T\n",
    "print(X.shape)\n",
    "\n",
    "Y = np.array([t, x1.flatten(), x2.flatten(), A.flatten()]).T\n",
    "print(Y.shape)\n",
    "\n",
    "\n",
    " "
   ]
  },
  {
   "cell_type": "code",
   "execution_count": null,
   "metadata": {},
   "outputs": [],
   "source": [
    "X[100]"
   ]
  },
  {
   "cell_type": "code",
   "execution_count": null,
   "metadata": {},
   "outputs": [],
   "source": [
    "Y[100]"
   ]
  },
  {
   "cell_type": "code",
   "execution_count": null,
   "metadata": {},
   "outputs": [],
   "source": [
    "from sklearn.preprocessing import PolynomialFeatures\n",
    "from sklearn.linear_model import LinearRegression, Lasso\n",
    "from sklearn.metrics import mean_squared_error\n",
    "\n",
    "def polynomial_fit(X, Y, max_degree, feature_names, alpha=0.0):\n",
    "    \"\"\"\n",
    "    Perform polynomial regression with optional L1 sparsity (lasso).\n",
    "\n",
    "    Parameters:\n",
    "    - X: array-like, shape (n_samples, n_features)\n",
    "    - Y: array-like, shape (n_samples, n_outputs)\n",
    "    - max_degree: int, max polynomial degree\n",
    "    - feature_names: list of str, names of input features\n",
    "    - alpha: float, L1 regularization strength (0 for no sparsity)\n",
    "\n",
    "    Returns:\n",
    "    - equations: list of fitted equations as strings\n",
    "    - mse_list: list of mean squared errors for each output\n",
    "    - model: trained model object\n",
    "    \"\"\"\n",
    "    poly = PolynomialFeatures(degree=max_degree, include_bias=False)\n",
    "    X_poly = poly.fit_transform(X)\n",
    "    terms = poly.get_feature_names_out(feature_names)\n",
    "\n",
    "    n_outputs = Y.shape[1]\n",
    "    equations = []\n",
    "    mse_list = []\n",
    "    model_list = []\n",
    "    pred_list = []\n",
    "\n",
    "    for output_idx in range(n_outputs):\n",
    "        y = Y[:, output_idx]\n",
    "\n",
    "        if alpha > 0:\n",
    "            model = Lasso(alpha=alpha, max_iter=10000)\n",
    "        else:\n",
    "            model = LinearRegression()\n",
    "\n",
    "        model.fit(X_poly, y)\n",
    "        y_pred = model.predict(X_poly)\n",
    "        mse = mean_squared_error(y, y_pred)\n",
    "        mse_list.append(mse)\n",
    "\n",
    "        intercept = model.intercept_\n",
    "        coefficients = model.coef_\n",
    "\n",
    "        # Build sparse equation string\n",
    "        equation_terms = [f\"({intercept:.5f})\"]\n",
    "        for coef, term in zip(coefficients, terms):\n",
    "            if np.abs(coef) > 1e-7:  # Include only nonzero coefficients\n",
    "                equation_terms.append(f\"({coef:.5f})*{term}\")\n",
    "\n",
    "        equation_str = \" + \".join(equation_terms)\n",
    "        equations.append(equation_str)\n",
    "\n",
    "        print(f\"Output '{feature_names[output_idx]}':\")\n",
    "        print(f\"  MSE: {mse:.5f}\")\n",
    "        print(f\"  Equation: {equation_str}\\n\")\n",
    "        model_list.append(model)\n",
    "        pred_list.append(y_pred)\n",
    "\n",
    "    return equations, mse_list, model_list, pred_list"
   ]
  },
  {
   "cell_type": "code",
   "execution_count": null,
   "metadata": {},
   "outputs": [],
   "source": [
    "# Example usage:\n",
    "#X, Y = your data with shape (2007, 4)\n",
    "feature_names = ['t', 'x1', 'x2', 'A']\n",
    "equations, mses, models, preds = polynomial_fit(X, Y, max_degree=2, feature_names=feature_names, alpha=0)\n",
    "t_pred, x1_pred, x2_pred, A_pred = preds[0], preds[1], preds[2], preds[3]\n",
    "t_pred_reshape = t_pred.reshape((x1.shape[0], x1.shape[1]))\n",
    "x1_pred_reshape = x1_pred.reshape((x1.shape[0], x1.shape[1]))\n",
    "x2_pred_reshape = x2_pred.reshape((x1.shape[0], x1.shape[1]))\n",
    "A_pred_reshape = A_pred.reshape((x1.shape[0], x1.shape[1]))"
   ]
  },
  {
   "cell_type": "code",
   "execution_count": null,
   "metadata": {},
   "outputs": [],
   "source": [
    "plt.figure(figsize=(8, 8))\n",
    "plt.subplot(2, 2, 1)\n",
    "plt.scatter(t, x1.flatten(), label='x1 Original')\n",
    "plt.scatter(t_pred_reshape, x1_pred_reshape, label='x1 Predicted')\n",
    "plt.title('x1 Original vs Predicted')\n",
    "plt.xlabel('Time')\n",
    "plt.ylabel('x1')\n",
    "plt.legend()\n",
    "plt.subplot(2, 2, 2)\n",
    "plt.scatter(t, x2.flatten(), label='x2 Original')\n",
    "plt.scatter(t, x2_pred, label='x2 Predicted')\n",
    "plt.title('x2 Original vs Predicted')\n",
    "plt.xlabel('Time')\n",
    "plt.ylabel('x2')\n",
    "plt.legend()\n",
    "plt.subplot(2, 2, 3)\n",
    "plt.scatter(t, A.flatten(), label='A Original')\n",
    "plt.scatter(t, A_pred, label='A Predicted')\n",
    "plt.title('A Original vs Predicted')\n",
    "plt.xlabel('Time')\n",
    "plt.ylabel('A')\n",
    "plt.legend()\n",
    "plt.tight_layout()\n",
    "# set the figure size\n",
    "plt.show()\n"
   ]
  },
  {
   "cell_type": "code",
   "execution_count": null,
   "metadata": {},
   "outputs": [],
   "source": [
    "plt.scatter(t, x1)"
   ]
  },
  {
   "cell_type": "markdown",
   "metadata": {},
   "source": [
    "## Next do it as membrane dynamics\n"
   ]
  },
  {
   "cell_type": "markdown",
   "metadata": {},
   "source": [
    "### Begin with some visualization of the data"
   ]
  },
  {
   "cell_type": "code",
   "execution_count": null,
   "metadata": {},
   "outputs": [],
   "source": [
    "def infer_grid_structure_3x3(x1, x2):\n",
    "    # infers the grid structure for a 3x3 grid of points\n",
    "    distances = np.sqrt((x1[:, None] - x1[None, :])**2 + (x2[:, None] - x2[None, :])**2)\n",
    "    grid_structure = np.zeros_like(distances)\n",
    "    max_distance = np.max(distances)\n",
    "    grid_structure[distances < .4 * max_distance ] = 1\n",
    "    return grid_structure\n",
    "\n",
    "def reorder_points_natural_grid(x1,x2):\n",
    "    # reorder points in a natural square grid structure\n",
    "    # warp the metric to order it by rows first\n",
    "    actual_ordering = np.argsort(np.linalg.norm(np.stack([x1,5 * x2]) , axis = 0) )# sort by sum of coordinates\n",
    "    ordered_x1 = x1[actual_ordering]\n",
    "    ordered_x2 = x2[actual_ordering]\n",
    "    return ordered_x1, ordered_x2\n",
    "\n"
   ]
  },
  {
   "cell_type": "code",
   "execution_count": null,
   "metadata": {},
   "outputs": [],
   "source": [
    "np.concat([x1_values, x2_values]).shape"
   ]
  },
  {
   "cell_type": "code",
   "execution_count": null,
   "metadata": {},
   "outputs": [],
   "source": [
    "# Select a specific time index (e.g., t=100)\n",
    "time_index = -1\n",
    "\n",
    "# Extract x1, x2, and A values for the given time index\n",
    "x1_values = x1[time_index]\n",
    "x2_values = x2[time_index]\n",
    "A_values = A[time_index]\n",
    "\n",
    "# Reorder the points in a natural grid structure\n",
    "ordered_x1, ordered_x2 = reorder_points_natural_grid(x1_values, x2_values)\n"
   ]
  },
  {
   "cell_type": "code",
   "execution_count": null,
   "metadata": {},
   "outputs": [],
   "source": [
    "\n",
    "import matplotlib.pyplot as plt\n",
    "\n",
    "# Create a figure\n",
    "plt.figure(figsize=(8, 6))\n",
    "\n",
    "# Scatter plot\n",
    "scatter = plt.scatter(x1_values, x2_values, c=np.arange(len(ordered_x1)), cmap='viridis', s=100)\n",
    "\n",
    "# Add labels for each point\n",
    "for i, (x, y) in enumerate(zip(ordered_x1, ordered_x2)):\n",
    "\tplt.text(x, y, str(i), fontsize=9, ha='right', va='bottom')\n",
    "\n",
    "plt.colorbar(scatter, label='Point Index')\n",
    "plt.title(f'Unordered Points at Time Index {time_index}')"
   ]
  },
  {
   "cell_type": "code",
   "execution_count": null,
   "metadata": {},
   "outputs": [],
   "source": [
    "import time\n",
    "\n",
    "import matplotlib.pyplot as plt\n",
    "\n",
    "# Create a figure\n",
    "plt.figure(figsize=(8, 6))\n",
    "\n",
    "# Scatter plot\n",
    "scatter = plt.scatter(ordered_x1, ordered_x2, c=np.arange(len(ordered_x1)), cmap='viridis', s=100)\n",
    "\n",
    "# Add labels for each point\n",
    "for i, (x, y) in enumerate(zip(ordered_x1, ordered_x2)):\n",
    "\tplt.text(x, y, str(i), fontsize=9, ha='right', va='bottom')\n",
    "\n",
    "plt.colorbar(scatter, label='Point Index')\n",
    "plt.title(f'Ordered Points at Time Index {time_index}')"
   ]
  },
  {
   "cell_type": "code",
   "execution_count": null,
   "metadata": {},
   "outputs": [],
   "source": [
    "import networkx as nx"
   ]
  },
  {
   "cell_type": "code",
   "execution_count": null,
   "metadata": {},
   "outputs": [],
   "source": [
    "neighbor_list = infer_grid_structure_3x3(ordered_x1, ordered_x2)\n",
    "# convert the adjacency matrix to a list of neighbors. have an option to include self loops\n",
    "def adjacency_matrix_to_neighbors(adj_matrix, self_loops=False):\n",
    "    if not self_loops:\n",
    "        for i in range(adj_matrix.shape[0]):\n",
    "            # set diagonal to 0 if self_loops is False\n",
    "            adj_matrix[i,i] = 0\n",
    "    neighbors = {}\n",
    "    for i in range(adj_matrix.shape[0]):\n",
    "        neighbors[i] = np.where(adj_matrix[i] > 0)[0].tolist()\n",
    "    return neighbors\n",
    "\n",
    "neighbors = adjacency_matrix_to_neighbors(neighbor_list)\n",
    "material_graph = nx.Graph(neighbors)"
   ]
  },
  {
   "cell_type": "code",
   "execution_count": null,
   "metadata": {},
   "outputs": [],
   "source": [
    "nx.draw(material_graph, with_labels=True, node_size=500, node_color='lightblue', font_size=10, font_color='black')"
   ]
  },
  {
   "cell_type": "code",
   "execution_count": null,
   "metadata": {},
   "outputs": [],
   "source": []
  },
  {
   "cell_type": "code",
   "execution_count": null,
   "metadata": {},
   "outputs": [],
   "source": [
    "\n",
    "pos = np.stack([x1, x2, A])\n",
    "print(pos.shape)\n",
    "pos = np.transpose(pos, (1,2,0))\n",
    "print(pos.shape)"
   ]
  },
  {
   "cell_type": "code",
   "execution_count": null,
   "metadata": {},
   "outputs": [],
   "source": [
    "import sys\n",
    "sys.path.append('/Users/charlesxu/Documents/MIT/geometric algebra/dynamics_inference/')\n",
    "\n",
    "from visualizer.temporal_graph_matplotlib import animate_temporal_graph \n",
    "\n",
    "anim = animate_temporal_graph(pos, material_graph)\n",
    "anim.save('temporal_graph_animation.mp4', writer='ffmpeg', fps=10)"
   ]
  },
  {
   "cell_type": "code",
   "execution_count": null,
   "metadata": {},
   "outputs": [],
   "source": [
    "import plotly.graph_objects as go\n",
    "\n",
    "# Select a specific time index (e.g., t=100)\n",
    "time_index = 100\n",
    "\n",
    "# Extract x1, x2, and A values for the given time index\n",
    "x1_values = x1[time_index]\n",
    "x2_values = x2[time_index]\n",
    "A_values = A[time_index]\n",
    "\n",
    "# Create a 3D scatter plot\n",
    "fig = go.Figure(data=[go.Scatter3d(\n",
    "    x=x1_values,\n",
    "    y=x2_values,\n",
    "    z=A_values,\n",
    "    mode='markers',\n",
    "    marker=dict(\n",
    "        size=5,\n",
    "        color=A_values,  # Set color to A values\n",
    "        colorscale='Viridis',  # Choose a colorscale\n",
    "        opacity=0.8\n",
    "    )\n",
    ")])\n",
    "\n",
    "# Set labels and title\n",
    "fig.update_layout(\n",
    "    scene=dict(\n",
    "        xaxis_title='x1',\n",
    "        yaxis_title='x2',\n",
    "        zaxis_title='A'\n",
    "    ),\n",
    "    title=f'3D Plot of x1, x2, and A at t={time_index}'\n",
    ")\n",
    "\n",
    "# Show the plot\n",
    "fig.show()"
   ]
  },
  {
   "cell_type": "code",
   "execution_count": null,
   "metadata": {},
   "outputs": [],
   "source": [
    "x1_pred_reshape.shape"
   ]
  },
  {
   "cell_type": "code",
   "execution_count": null,
   "metadata": {},
   "outputs": [],
   "source": [
    "t.shape"
   ]
  },
  {
   "cell_type": "code",
   "execution_count": null,
   "metadata": {},
   "outputs": [],
   "source": [
    "plt.scatter(t, x1_pred_reshape);"
   ]
  },
  {
   "cell_type": "code",
   "execution_count": null,
   "metadata": {},
   "outputs": [],
   "source": [
    "# make an animation of the trajectories, x,y and a quiver plot of the angle\n",
    "# x has shape (T, N_locations), etc \n",
    "import os\n",
    "import matplotlib.animation as animation\n",
    "\n",
    "def animate_trajectories(x, y, angle, interval=100):\n",
    "    fig, ax = plt.subplots()\n",
    "    \n",
    "    arrow_length = .2  # fixed arrow length\n",
    "\n",
    "    # set the axes to be equal aspect ratio\n",
    "    ax.set_aspect('equal', adjustable='box')\n",
    "    margin = .2\n",
    "    ax.set_xlim(np.min(x)-margin, np.max(x)+margin)\n",
    "    ax.set_ylim(np.min(y)-margin, np.max(y)+margin)\n",
    "\n",
    "    # turn off the grid and ticks\n",
    "    ax.grid(False)\n",
    "    ax.set_xticks([])\n",
    "    ax.set_yticks([])\n",
    "    ax.set_title('Predicted')\n",
    "\n",
    "    scatter = ax.scatter(x[0], y[0], color='blue', s=200)\n",
    "    quiver = ax.quiver(x[0], y[0], \n",
    "                       np.cos(np.radians(angle[0])), \n",
    "                       np.sin(np.radians(angle[0])), \n",
    "                       angles='xy', scale_units='xy', scale=1/(arrow_length), color='r')\n",
    "\n",
    "    def update(frame):\n",
    "        scatter.set_offsets(np.column_stack((x[frame], y[frame])))\n",
    "        u = np.cos(np.radians(angle[frame]))\n",
    "        v = np.sin(np.radians(angle[frame]))\n",
    "        quiver.set_offsets(np.column_stack((x[frame], y[frame])))\n",
    "        quiver.set_UVC(u, v)\n",
    "        return scatter, quiver\n",
    "\n",
    "    ani = animation.FuncAnimation(fig, update, frames=len(x), interval=interval, blit=True)\n",
    "    return ani\n",
    "\n",
    "A_pred_reshape_degrees = np.rad2deg(A_pred_reshape)\n",
    "ani = animate_trajectories(x1_pred_reshape, x2_pred_reshape, A_pred_reshape_degrees, interval=100)\n",
    "# Save the animation as an MP4 file\n",
    "output_dir = 'animations'\n",
    "os.makedirs(output_dir, exist_ok=True)\n",
    "ani.save(os.path.join(output_dir, 'trajectories_predicted.mp4'), writer='ffmpeg', fps=30)"
   ]
  },
  {
   "cell_type": "code",
   "execution_count": null,
   "metadata": {},
   "outputs": [],
   "source": [
    "x1_pred_reshape.shape"
   ]
  },
  {
   "cell_type": "code",
   "execution_count": null,
   "metadata": {},
   "outputs": [],
   "source": [
    "plt.plot(x1_pred_reshape);"
   ]
  }
 ],
 "metadata": {
  "kernelspec": {
   "display_name": "sde_inf",
   "language": "python",
   "name": "python3"
  },
  "language_info": {
   "codemirror_mode": {
    "name": "ipython",
    "version": 3
   },
   "file_extension": ".py",
   "mimetype": "text/x-python",
   "name": "python",
   "nbconvert_exporter": "python",
   "pygments_lexer": "ipython3",
   "version": "3.10.13"
  }
 },
 "nbformat": 4,
 "nbformat_minor": 2
}
