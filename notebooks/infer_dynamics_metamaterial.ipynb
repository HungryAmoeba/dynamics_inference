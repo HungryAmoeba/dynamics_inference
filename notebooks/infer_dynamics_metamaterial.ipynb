{
 "cells": [
  {
   "cell_type": "code",
   "execution_count": null,
   "metadata": {},
   "outputs": [],
   "source": [
    "import matplotlib.pyplot as plt\n",
    "import numpy as np\n",
    "import jax \n",
    "import jax.numpy as jnp\n",
    "import networkx as nx"
   ]
  },
  {
   "cell_type": "code",
   "execution_count": null,
   "metadata": {},
   "outputs": [],
   "source": [
    "from inference.GA_inference_2 import infer_dynamics \n",
    "from visualizer.temporal_graph_matplotlib import animate_temporal_graph\n"
   ]
  },
  {
   "cell_type": "code",
   "execution_count": null,
   "metadata": {},
   "outputs": [],
   "source": [
    "import importlib\n",
    "import inference.GA_inference_2\n",
    "import visualizer.temporal_graph_matplotlib\n",
    "importlib.reload(inference.GA_inference_2)\n",
    "importlib.reload(visualizer.temporal_graph_matplotlib)\n",
    "from inference.GA_inference_2 import infer_dynamics as GA_dynamics_inference\n",
    "from visualizer.temporal_graph_matplotlib import animate_temporal_graph\n"
   ]
  },
  {
   "cell_type": "code",
   "execution_count": null,
   "metadata": {},
   "outputs": [],
   "source": [
    "metamat_data = np.load('data/normalized_trajectory_metamaterial.npz')\n",
    "print(metamat_data.files)"
   ]
  },
  {
   "cell_type": "code",
   "execution_count": null,
   "metadata": {},
   "outputs": [],
   "source": [
    "# make an array of metamat_data \n",
    "metamat_arr = jnp.stack([metamat_data['x'], metamat_data['y'], jnp.deg2rad(metamat_data['angle'])], axis=-1)\n",
    "\n",
    "t_f = 10 \n",
    "ts = jnp.linspace(0, t_f, metamat_arr.shape[0])\n",
    "ts_expanded = jnp.repeat(ts[:, None], metamat_arr.shape[1], axis=1)[:, :, None]\n",
    "metamat_arr = jnp.concat([ts_expanded, metamat_arr], axis=-1)\n",
    "print(metamat_arr.shape)\n"
   ]
  },
  {
   "cell_type": "code",
   "execution_count": null,
   "metadata": {},
   "outputs": [],
   "source": [
    "dt = t_f/metamat_arr.shape[0]"
   ]
  },
  {
   "cell_type": "code",
   "execution_count": null,
   "metadata": {},
   "outputs": [],
   "source": [
    "# nodes 8, 5 and 6 are the top ones that get pulled? \n",
    "# plot the trajectory of the top nodes\n",
    "fig, ax = plt.subplots()\n",
    "ax.plot(metamat_arr[:, 8, 1], metamat_arr[:, 8, 2], label='Node 8')\n",
    "ax.plot(metamat_arr[:, 5, 1], metamat_arr[:, 5, 2], label='Node 5')\n",
    "ax.plot(metamat_arr[:, 6, 1], metamat_arr[:, 6, 2], label='Node 6')\n",
    "ax.set_xlabel('X Position')\n",
    "ax.set_ylabel('Y Position')\n",
    "ax.legend()\n",
    "plt.show()"
   ]
  },
  {
   "cell_type": "code",
   "execution_count": null,
   "metadata": {},
   "outputs": [],
   "source": [
    "top_nodes = np.array([8, 5, 6])\n",
    "top_nodes_vel = (metamat_arr[-1, top_nodes, 2] - metamat_arr[0, top_nodes, 2])/t_f\n",
    "print(\"Top nodes velocities: \", top_nodes_vel)\n",
    "pulling_velocity = np.mean(top_nodes_vel)\n",
    "print(\"Pulling velocity: \", pulling_velocity)\n",
    "pulling_velocity_vec = jnp.array([0, pulling_velocity])"
   ]
  },
  {
   "cell_type": "code",
   "execution_count": null,
   "metadata": {},
   "outputs": [],
   "source": [
    "def metamaterial_ext_pulling_force(applied_velocity, pulled_nodes, dt):\n",
    "    # Apply a pulling force to the top nodes\n",
    "    pulled_nodes = jnp.array(pulled_nodes, dtype = jnp.int32)\n",
    "    time_forcing = dt\n",
    "    def vel_fn(D_out, X):\n",
    "        D_blank = jnp.zeros_like(D_out) # T, N, D\n",
    "        # set D = 0 to the dt \n",
    "        D_blank = D_blank.at[:, :, 0].set(dt)\n",
    "        D_blank = D_blank.at[:, pulled_nodes, 1:3].set(applied_velocity)\n",
    "        return D_blank\n",
    "    return vel_fn"
   ]
  },
  {
   "cell_type": "code",
   "execution_count": null,
   "metadata": {},
   "outputs": [],
   "source": [
    "meta_vel_fn = metamaterial_ext_pulling_force(pulling_velocity_vec, top_nodes, dt)"
   ]
  },
  {
   "cell_type": "code",
   "execution_count": null,
   "metadata": {},
   "outputs": [],
   "source": [
    "plt.figure(figsize=(10, 10))\n",
    "nodes = [1,2,3,4]\n",
    "plt.plot(metamat_arr[:, nodes, 0], metamat_arr[:, nodes, 1])\n",
    "plt.plot(metamat_arr[:, nodes, 0], metamat_arr[:, nodes, 2])\n",
    "plt.plot(metamat_arr[:, nodes, 0], metamat_arr[:, nodes, 3])\n",
    "plt.xlabel('Time')\n",
    "plt.title('Metamaterial data')\n",
    "plt.show()"
   ]
  },
  {
   "cell_type": "code",
   "execution_count": null,
   "metadata": {},
   "outputs": [],
   "source": [
    "plt.figure(figsize=(10, 10))\n",
    "plt.plot(metamat_arr[:, 0, 0], metamat_arr[:, 0, 1], label='x')\n",
    "plt.plot(metamat_arr[:, 0, 0], metamat_arr[:, 0, 2], label='y')\n",
    "plt.plot(metamat_arr[:, 0, 0], metamat_arr[:, 0, 3], label='angle')\n",
    "plt.legend()\n",
    "plt.title('Metamaterial data, node 0')\n",
    "plt.show()"
   ]
  },
  {
   "cell_type": "code",
   "execution_count": null,
   "metadata": {},
   "outputs": [],
   "source": [
    "g_of_d = jnp.array([\n",
    "    0,      # output dim 0 ← grade 0\n",
    "    1,1,  # dims 1–3 ← grade 1\n",
    "    2 \n",
    "])\n",
    "\n",
    "import networkx as nx \n",
    "G = nx.Graph()\n",
    "# add 9 nodes \n",
    "for ind in range(9):\n",
    "    G.add_node(ind)\n",
    "edges_border = [(0,4), (0,2), (2,1), (1,3), (3,5), (5,8), (8,6), (6,4)]\n",
    "G.add_edges_from(edges_border)\n",
    "internal_edges = [(7,4), (7,3), (7,8), (7,2)]\n",
    "G.add_edges_from(internal_edges)\n",
    "pos = nx.spring_layout(G)\n",
    "nx.draw(G, pos)\n",
    "\n",
    "coupling_matrix = nx.adjacency_matrix(G).todense()\n",
    "print(coupling_matrix)\n",
    "coupling_matrix = jnp.array(coupling_matrix)\n"
   ]
  },
  {
   "cell_type": "code",
   "execution_count": null,
   "metadata": {},
   "outputs": [],
   "source": [
    "model_savgol = infer_dynamics(metamat_arr, \n",
    "                       g_of_d=g_of_d,\n",
    "                       derivatives='savgol',\n",
    "                       coupling=coupling_matrix,\n",
    "                       coupling_mode='fixed',\n",
    "                       max_poly_degree=4,\n",
    "                       sparsity_alpha=0.,\n",
    "                       ext_derivative_fxn=meta_vel_fn,\n",
    "                       learned_individual_terms=True)\n",
    "model_grad = infer_dynamics(metamat_arr, \n",
    "                       g_of_d=g_of_d,\n",
    "                       coupling=coupling_matrix,\n",
    "                       coupling_mode='fixed',\n",
    "                       max_poly_degree=4,\n",
    "                       sparsity_alpha=0.,\n",
    "                       ext_derivative_fxn=meta_vel_fn,\n",
    "                       learned_individual_terms=True) \n",
    "\n",
    "_, deriv_savgol = model_savgol.preprocess_data(metamat_arr)\n",
    "_, deriv_grad = model_grad.preprocess_data(metamat_arr)\n",
    "\n",
    "fig, ax = plt.subplots()\n",
    "x = metamat_arr[:, 0, 0]\n",
    "\n",
    "# — smooth (solid) —\n",
    "ax.plot(x, deriv_savgol[:,0,1], 'g',   label='x')\n",
    "ax.plot(x, deriv_savgol[:,0,2], 'r',   label='y')\n",
    "#ax.plot(x, deriv_savgol[:,0,3], 'b',   label='angle')\n",
    "\n",
    "# — raw gradient (dashed) via fmt strings —\n",
    "ax.plot(x, deriv_grad[:,0,1], 'g--',  label='x grad')\n",
    "ax.plot(x, deriv_grad[:,0,2], 'r--',  label='y grad')\n",
    "#ax.plot(x, deriv_grad[:,0,3], 'b--',  label='angle grad')\n",
    "\n",
    "ax.legend()\n",
    "plt.title('Derivatives of node 0')"
   ]
  },
  {
   "cell_type": "code",
   "execution_count": null,
   "metadata": {},
   "outputs": [],
   "source": [
    "model = GA_dynamics_inference(\n",
    "            metamat_arr,                      # Time series data\n",
    "            Gn=3,                             # Algebra dimension\n",
    "            derivatives='savgol',             # Derivative computation method ('savgol' or 'difference')\n",
    "            coupling=coupling_matrix,         # Coupling matrix (NxN matrix, or 'gaussian' or 'spline')\n",
    "            coupling_mode='fixed',            # Coupling mode ('fixed' or 'learned')\n",
    "            max_poly_degree=4,                # Maximum polynomial degree for polynomial terms\n",
    "            sparsity_alpha=0.01,              # Sparsity regularization parameter\n",
    "            ext_derivative_fxn=meta_vel_fn,   # External derivative function (pulling up on nodes)\n",
    "            learned_individual_terms=True     # Whether to learn individual terms (True) or not (False)\n",
    "        )\n",
    "\n",
    "_ = model.preprocess_data(metamat_arr)\n",
    "final_preds = model.fit()\n"
   ]
  },
  {
   "cell_type": "code",
   "execution_count": null,
   "metadata": {},
   "outputs": [],
   "source": [
    "model = infer_dynamics(metamat_arr, \n",
    "                       g_of_d=g_of_d,\n",
    "                       derivatives='savgol',\n",
    "                       coupling=coupling_matrix,\n",
    "                       coupling_mode='fixed',\n",
    "                       max_poly_degree=2,\n",
    "                       sparsity_alpha=0.001,\n",
    "                       ext_derivative_fxn=meta_vel_fn,\n",
    "                       learned_individual_terms=True)"
   ]
  },
  {
   "cell_type": "code",
   "execution_count": null,
   "metadata": {},
   "outputs": [],
   "source": [
    "dat, deriv = model.preprocess_data(metamat_arr)\n",
    "pretraining_W = np.copy(model.params['W'])\n",
    "plt.matshow(jnp.abs(pretraining_W), cmap='grey');"
   ]
  },
  {
   "cell_type": "code",
   "execution_count": null,
   "metadata": {},
   "outputs": [],
   "source": [
    "pretraining_individual_terms = np.copy(model.params['individual_terms'])\n",
    "plt.imshow(jnp.abs(model.params['individual_terms']), cmap='grey')"
   ]
  },
  {
   "cell_type": "code",
   "execution_count": null,
   "metadata": {},
   "outputs": [],
   "source": [
    "final_pred=model.fit(epochs=10000, lr  = 1e-4)"
   ]
  },
  {
   "cell_type": "code",
   "execution_count": null,
   "metadata": {},
   "outputs": [],
   "source": [
    "model.print_equation()"
   ]
  },
  {
   "cell_type": "code",
   "execution_count": null,
   "metadata": {},
   "outputs": [],
   "source": [
    "dt"
   ]
  },
  {
   "cell_type": "code",
   "execution_count": null,
   "metadata": {},
   "outputs": [],
   "source": [
    "final_pred[0, 0, 0]"
   ]
  },
  {
   "cell_type": "code",
   "execution_count": null,
   "metadata": {},
   "outputs": [],
   "source": [
    "type(model.fixed_K)"
   ]
  },
  {
   "cell_type": "code",
   "execution_count": null,
   "metadata": {},
   "outputs": [],
   "source": [
    "preds = model.predict(metamat_arr)"
   ]
  },
  {
   "cell_type": "code",
   "execution_count": null,
   "metadata": {},
   "outputs": [],
   "source": [
    "plt.matshow(jnp.abs(model.params['W']), cmap='grey')"
   ]
  },
  {
   "cell_type": "code",
   "execution_count": null,
   "metadata": {},
   "outputs": [],
   "source": [
    "pretraining_individual_terms - model.params['individual_terms']"
   ]
  },
  {
   "cell_type": "code",
   "execution_count": null,
   "metadata": {},
   "outputs": [],
   "source": [
    "plt.imshow(jnp.abs(model.params['individual_terms']), cmap='grey')"
   ]
  },
  {
   "cell_type": "code",
   "execution_count": null,
   "metadata": {},
   "outputs": [],
   "source": [
    "jnp.max(jnp.abs(model.params['individual_terms'])) #- jnp.abs(pretraining_individual_terms)"
   ]
  },
  {
   "cell_type": "code",
   "execution_count": null,
   "metadata": {},
   "outputs": [],
   "source": [
    "jnp.max(jnp.abs(model.params['W']))"
   ]
  },
  {
   "cell_type": "code",
   "execution_count": null,
   "metadata": {},
   "outputs": [],
   "source": [
    "preds.shape"
   ]
  },
  {
   "cell_type": "code",
   "execution_count": null,
   "metadata": {},
   "outputs": [],
   "source": [
    "final_pred.shape\n"
   ]
  },
  {
   "cell_type": "code",
   "execution_count": null,
   "metadata": {},
   "outputs": [],
   "source": [
    "model.derivatives.shape"
   ]
  },
  {
   "cell_type": "code",
   "execution_count": null,
   "metadata": {},
   "outputs": [],
   "source": [
    "node_num = 0\n",
    "deriv_gt = model.derivatives\n",
    "\n",
    "for node_num in range(9):\n",
    "    plt.figure(figsize=(10, 10))\n",
    "    plt.plot(metamat_arr[:, 0, 0], final_pred[:, node_num, 1], 'g', label='x deriv fit')\n",
    "    plt.plot(metamat_arr[:, 0, 0], final_pred[:, node_num, 2], 'r', label='y deriv fit')\n",
    "    plt.plot(metamat_arr[:, 0, 0], final_pred[:, node_num, 3], 'b', label='angle deriv fit')\n",
    "\n",
    "    # plot GT\n",
    "    plt.plot(metamat_arr[:, 0, 0], deriv_gt[:, node_num, 1], 'g', label='x deriv', linestyle='dashed')\n",
    "    plt.plot(metamat_arr[:, 0, 0], deriv_gt[:, node_num, 2], 'r', label='y deriv', linestyle='dashed')\n",
    "    plt.plot(metamat_arr[:, 0, 0], deriv_gt[:, node_num, 3], 'b', label='angle deriv', linestyle='dashed')\n",
    "    plt.legend()\n",
    "    plt.title(f'Metamaterial derivatives, node {node_num}')\n",
    "    plt.show()"
   ]
  },
  {
   "cell_type": "code",
   "execution_count": null,
   "metadata": {},
   "outputs": [],
   "source": [
    "integrated = jnp.cumsum(final_pred, axis=0)*dt + metamat_arr[0, :, :]\n",
    "print(integrated.shape)"
   ]
  },
  {
   "cell_type": "code",
   "execution_count": null,
   "metadata": {},
   "outputs": [],
   "source": [
    "node_num = 0\n",
    "\n",
    "for node_num in range(9):\n",
    "    plt.figure(figsize=(10, 10))\n",
    "    plt.plot(metamat_arr[:, 0, 0], integrated[:, node_num, 1], label='x')\n",
    "    plt.plot(metamat_arr[:, 0, 0], integrated[:, node_num, 2], label='y')\n",
    "    plt.plot(metamat_arr[:, 0, 0], integrated[:, node_num, 3], label='angle')\n",
    "\n",
    "    # plot GT\n",
    "    plt.plot(metamat_arr[:, 0, 0], metamat_arr[:, node_num, 1], label='x GT', linestyle='dashed')\n",
    "    plt.plot(metamat_arr[:, 0, 0], metamat_arr[:, node_num, 2], label='y GT', linestyle='dashed')\n",
    "    plt.plot(metamat_arr[:, 0, 0], metamat_arr[:, node_num, 3], label='angle GT', linestyle='dashed')\n",
    "    plt.legend()\n",
    "    plt.title(f'Metamaterial data, node {node_num}')\n",
    "    plt.show()"
   ]
  },
  {
   "cell_type": "code",
   "execution_count": null,
   "metadata": {},
   "outputs": [],
   "source": [
    "model.print_equation()"
   ]
  },
  {
   "cell_type": "code",
   "execution_count": null,
   "metadata": {},
   "outputs": [],
   "source": [
    "jnp.max(metamat_arr - integrated)"
   ]
  },
  {
   "cell_type": "code",
   "execution_count": null,
   "metadata": {},
   "outputs": [],
   "source": [
    "preds"
   ]
  },
  {
   "cell_type": "code",
   "execution_count": null,
   "metadata": {},
   "outputs": [],
   "source": [
    "plt.imshow(coupling_matrix, cmap='gray')"
   ]
  },
  {
   "cell_type": "code",
   "execution_count": null,
   "metadata": {},
   "outputs": [],
   "source": [
    "plt.imshow(model.fixed_K, cmap='gray')"
   ]
  },
  {
   "cell_type": "code",
   "execution_count": null,
   "metadata": {},
   "outputs": [],
   "source": [
    "model.params['W'].shape"
   ]
  },
  {
   "cell_type": "code",
   "execution_count": null,
   "metadata": {},
   "outputs": [],
   "source": [
    "pos = \n",
    "animate_temporal_graph()"
   ]
  }
 ],
 "metadata": {
  "kernelspec": {
   "display_name": "sde_inf",
   "language": "python",
   "name": "python3"
  },
  "language_info": {
   "codemirror_mode": {
    "name": "ipython",
    "version": 3
   },
   "file_extension": ".py",
   "mimetype": "text/x-python",
   "name": "python",
   "nbconvert_exporter": "python",
   "pygments_lexer": "ipython3",
   "version": "3.10.13"
  }
 },
 "nbformat": 4,
 "nbformat_minor": 2
}
